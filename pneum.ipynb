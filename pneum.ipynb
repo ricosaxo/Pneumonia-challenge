{
 "cells": [
  {
   "cell_type": "code",
   "execution_count": 45,
   "metadata": {},
   "outputs": [],
   "source": [
    "import numpy as np\n",
    "import matplotlib.pyplot as plt\n",
    "import os\n",
    "from PIL import Image\n",
    "import glob\n",
    "from pathlib import Path\n",
    "import kagglehub\n",
    "from sklearn.model_selection import train_test_split\n",
    "from tensorflow.keras.models import Sequential\n",
    "from tensorflow.keras.layers import Conv2D, MaxPooling2D, Flatten, Dense, Dropout, BatchNormalization\n",
    "from tensorflow.keras.regularizers import l2\n",
    "from tensorflow.keras.optimizers import Adam\n",
    "from sklearn.metrics import classification_report, confusion_matrix, roc_curve, auc\n",
    "import seaborn as sns\n",
    "from tensorflow.keras.callbacks import EarlyStopping\n",
    "from tensorflow.keras.callbacks import ReduceLROnPlateau"
   ]
  },
  {
   "cell_type": "code",
   "execution_count": 46,
   "metadata": {},
   "outputs": [
    {
     "name": "stdout",
     "output_type": "stream",
     "text": [
      "Dataset already exists at: C:\\Users\\Rik/.cache/kagglehub/datasets\\paultimothymooney\\chest-xray-pneumonia\n"
     ]
    }
   ],
   "source": [
    "def get_dataset(dataset_name):\n",
    "    \"\"\"Check if a dataset with the given name exists locally before downloading it.\"\"\"\n",
    "    base_cache_path = os.path.expanduser(\"~/.cache/kagglehub/datasets\")\n",
    "\n",
    "    # Search for any dataset folder containing the dataset name\n",
    "    for root, dirs, _ in os.walk(base_cache_path):\n",
    "        for dir_name in dirs:\n",
    "            if dataset_name.split(\"/\")[-1] in dir_name:  # Check if dataset name is in folder\n",
    "                dataset_path = os.path.join(root, dir_name)\n",
    "                print(f\"Dataset already exists at: {dataset_path}\")\n",
    "                return dataset_path\n",
    "\n",
    "    # If not found, download it\n",
    "    print(\"Dataset not found. Downloading...\")\n",
    "    path = kagglehub.dataset_download(dataset_name)\n",
    "    print(\"Dataset downloaded to:\", path)\n",
    "    return path\n",
    "\n",
    "# Example usage\n",
    "dataset_path = get_dataset(\"paultimothymooney/chest-xray-pneumonia\")\n"
   ]
  },
  {
   "cell_type": "code",
   "execution_count": 47,
   "metadata": {},
   "outputs": [
    {
     "name": "stdout",
     "output_type": "stream",
     "text": [
      "Using dataset folder: C:\\Users\\Rik\\.cache\\kagglehub\\datasets\\paultimothymooney\\chest-xray-pneumonia\\versions\\2\\chest_xray\n",
      "Contents of base_folder: ['chest_xray', 'test', 'train', 'val', '__MACOSX']\n",
      "All dataset folders exist.\n"
     ]
    }
   ],
   "source": [
    "\n",
    "# Set base folder\n",
    "base_path = Path.home() / \".cache\" / \"kagglehub\" / \"datasets\" / \"paultimothymooney\" / \"chest-xray-pneumonia\"\n",
    "chest_xray_folders = list(base_path.glob(\"**/chest_xray\"))\n",
    "\n",
    "if not chest_xray_folders:\n",
    "    raise FileNotFoundError(f\"No 'chest_xray' folder found in {base_path}\")\n",
    "\n",
    "base_folder = chest_xray_folders[0]\n",
    "print(f\"Using dataset folder: {base_folder}\")\n",
    "\n",
    "train_folder = base_folder / \"train\"\n",
    "val_folder = base_folder / \"val\"\n",
    "test_folder = base_folder / \"test\"\n",
    "\n",
    "# Check if base_folder exists and display its contents\n",
    "if base_folder.exists():\n",
    "    print(\"Contents of base_folder:\", os.listdir(base_folder))\n",
    "else:\n",
    "    raise FileNotFoundError(f\"Base folder does not exist: {base_folder}\")\n",
    "\n",
    "# Check if directories exist\n",
    "if not train_folder.exists():\n",
    "    raise FileNotFoundError(f\"Train folder not found: {train_folder}\")\n",
    "if not val_folder.exists():\n",
    "    raise FileNotFoundError(f\"Validation folder not found: {val_folder}\")\n",
    "if not test_folder.exists():\n",
    "    raise FileNotFoundError(f\"Test folder not found: {test_folder}\")\n",
    "\n",
    "print(\"All dataset folders exist.\")\n",
    "\n"
   ]
  },
  {
   "cell_type": "code",
   "execution_count": 48,
   "metadata": {},
   "outputs": [],
   "source": [
    "img_height, img_width = 64, 64  \n",
    "batch_size = 32"
   ]
  },
  {
   "cell_type": "code",
   "execution_count": 49,
   "metadata": {},
   "outputs": [
    {
     "name": "stdout",
     "output_type": "stream",
     "text": [
      "Found 5216 images belonging to 2 classes.\n",
      "Found 16 images belonging to 2 classes.\n",
      "Found 624 images belonging to 2 classes.\n"
     ]
    }
   ],
   "source": [
    "# Data augmentation for the training set\n",
    "train_datagen = ImageDataGenerator(\n",
    "    rescale=1./255,\n",
    "    shear_range=0.2,\n",
    "    zoom_range=0.2,\n",
    "    horizontal_flip=True,\n",
    ")\n",
    "\n",
    "# Only rescaling for the validation and test sets\n",
    "test_datagen = ImageDataGenerator(rescale=1./255)\n",
    "\n",
    "# Load data from directories using flow_from_directory\n",
    "training_set = train_datagen.flow_from_directory(\n",
    "    directory=str(train_folder),\n",
    "    target_size=(img_height, img_width),\n",
    "    batch_size=batch_size,\n",
    "    class_mode='binary',\n",
    "    seed=42 # Add a seed for reproducibility\n",
    ")\n",
    "\n",
    "validation_generator = test_datagen.flow_from_directory(\n",
    "    directory=str(val_folder),\n",
    "    target_size=(img_height, img_width),\n",
    "    batch_size=batch_size,\n",
    "    class_mode='binary',\n",
    "    seed=42 # Add a seed for reproducibility\n",
    ")\n",
    "\n",
    "test_set = test_datagen.flow_from_directory(\n",
    "    directory=str(test_folder),\n",
    "    target_size=(img_height, img_width),\n",
    "    batch_size=batch_size,\n",
    "    class_mode='binary',\n",
    "    shuffle=False, # Important for confusion matrix\n",
    "    seed=42 # Add a seed for reproducibility\n",
    ")\n"
   ]
  },
  {
   "cell_type": "code",
   "execution_count": 50,
   "metadata": {},
   "outputs": [
    {
     "name": "stderr",
     "output_type": "stream",
     "text": [
      "c:\\Users\\Rik\\Desktop\\Pneumonia-challenge\\.pneum\\lib\\site-packages\\keras\\src\\layers\\convolutional\\base_conv.py:107: UserWarning: Do not pass an `input_shape`/`input_dim` argument to a layer. When using Sequential models, prefer using an `Input(shape)` object as the first layer in the model instead.\n",
      "  super().__init__(activity_regularizer=activity_regularizer, **kwargs)\n"
     ]
    }
   ],
   "source": [
    "cnn = Sequential()\n",
    "\n",
    "#Convolution\n",
    "cnn.add(Conv2D(32, (3, 3), activation=\"relu\", input_shape=(64, 64, 3)))\n",
    "\n",
    "#Pooling\n",
    "cnn.add(MaxPooling2D(pool_size = (2, 2)))\n",
    "\n",
    "# 2nd Convolution\n",
    "cnn.add(Conv2D(32, (3, 3), activation=\"relu\"))\n",
    "\n",
    "# 2nd Pooling layer\n",
    "cnn.add(MaxPooling2D(pool_size = (2, 2)))\n",
    "\n",
    "# Flatten the layer\n",
    "cnn.add(Flatten())\n",
    "\n",
    "# Fully Connected Layers\n",
    "cnn.add(Dense(activation = 'relu', units = 128))\n",
    "cnn.add(Dense(activation = 'sigmoid', units = 1))\n",
    "\n",
    "# Compile the Neural network\n",
    "cnn.compile(optimizer = 'adam', loss = 'binary_crossentropy', metrics = ['accuracy'])\n"
   ]
  },
  {
   "cell_type": "code",
   "execution_count": 51,
   "metadata": {},
   "outputs": [],
   "source": [
    "# Early stopping callback\n",
    "early_stopping = EarlyStopping(monitor='val_loss', patience=5, restore_best_weights=True)"
   ]
  },
  {
   "cell_type": "code",
   "execution_count": null,
   "metadata": {},
   "outputs": [
    {
     "name": "stderr",
     "output_type": "stream",
     "text": [
      "c:\\Users\\Rik\\Desktop\\Pneumonia-challenge\\.pneum\\lib\\site-packages\\keras\\src\\trainers\\data_adapters\\py_dataset_adapter.py:121: UserWarning: Your `PyDataset` class should call `super().__init__(**kwargs)` in its constructor. `**kwargs` can include `workers`, `use_multiprocessing`, `max_queue_size`. Do not pass these arguments to `fit()`, as they will be ignored.\n",
      "  self._warn_if_super_not_called()\n"
     ]
    },
    {
     "name": "stdout",
     "output_type": "stream",
     "text": [
      "Epoch 1/20\n",
      "\u001b[1m163/163\u001b[0m \u001b[32m━━━━━━━━━━━━━━━━━━━━\u001b[0m\u001b[37m\u001b[0m \u001b[1m60s\u001b[0m 360ms/step - accuracy: 0.7909 - loss: 0.4790 - val_accuracy: 0.6875 - val_loss: 0.5736\n",
      "Epoch 2/20\n",
      "\u001b[1m163/163\u001b[0m \u001b[32m━━━━━━━━━━━━━━━━━━━━\u001b[0m\u001b[37m\u001b[0m \u001b[1m58s\u001b[0m 351ms/step - accuracy: 0.9090 - loss: 0.2239 - val_accuracy: 0.8750 - val_loss: 0.3117\n",
      "Epoch 3/20\n",
      "\u001b[1m163/163\u001b[0m \u001b[32m━━━━━━━━━━━━━━━━━━━━\u001b[0m\u001b[37m\u001b[0m \u001b[1m55s\u001b[0m 338ms/step - accuracy: 0.9167 - loss: 0.1970 - val_accuracy: 0.8750 - val_loss: 0.2814\n",
      "Epoch 4/20\n",
      "\u001b[1m120/163\u001b[0m \u001b[32m━━━━━━━━━━━━━━\u001b[0m\u001b[37m━━━━━━\u001b[0m \u001b[1m14s\u001b[0m 349ms/step - accuracy: 0.9083 - loss: 0.2152"
     ]
    }
   ],
   "source": [
    "# Train the model\n",
    "cnn_model = cnn.fit(\n",
    "    training_set,\n",
    "    steps_per_epoch=training_set.samples // batch_size,\n",
    "    epochs=20,\n",
    "    validation_data=validation_generator,\n",
    "    validation_steps=validation_generator.samples // batch_size,\n",
    "    callbacks=[early_stopping]\n",
    ")"
   ]
  },
  {
   "cell_type": "code",
   "execution_count": null,
   "metadata": {},
   "outputs": [
    {
     "name": "stdout",
     "output_type": "stream",
     "text": [
      "\u001b[1m19/19\u001b[0m \u001b[32m━━━━━━━━━━━━━━━━━━━━\u001b[0m\u001b[37m\u001b[0m \u001b[1m4s\u001b[0m 174ms/step - accuracy: 0.8275 - loss: 0.4029\n",
      "Test Accuracy: 0.8684\n"
     ]
    }
   ],
   "source": [
    "test_loss, test_accuracy = cnn.evaluate(test_set, steps=test_set.samples // batch_size)\n",
    "print(f\"Test Accuracy: {test_accuracy:.4f}\")"
   ]
  },
  {
   "cell_type": "code",
   "execution_count": 39,
   "metadata": {},
   "outputs": [
    {
     "name": "stdout",
     "output_type": "stream",
     "text": [
      "\u001b[1m20/20\u001b[0m \u001b[32m━━━━━━━━━━━━━━━━━━━━\u001b[0m\u001b[37m\u001b[0m \u001b[1m4s\u001b[0m 173ms/step\n"
     ]
    }
   ],
   "source": [
    "# Get predictions from the test set\n",
    "predictions = cnn.predict(test_set)\n",
    "predicted_classes = (predictions > 0.5).astype(\"int32\")"
   ]
  },
  {
   "cell_type": "code",
   "execution_count": 40,
   "metadata": {},
   "outputs": [],
   "source": [
    "# Get true labels\n",
    "true_classes = test_set.classes\n",
    "class_labels = list(test_set.class_indices.keys())"
   ]
  },
  {
   "cell_type": "code",
   "execution_count": 41,
   "metadata": {},
   "outputs": [
    {
     "name": "stdout",
     "output_type": "stream",
     "text": [
      "Confusion Matrix:\n",
      "[[178  56]\n",
      " [ 24 366]]\n"
     ]
    }
   ],
   "source": [
    "# Confusion Matrix\n",
    "cm = confusion_matrix(true_classes, predicted_classes)\n",
    "print(\"Confusion Matrix:\")\n",
    "print(cm)"
   ]
  },
  {
   "cell_type": "code",
   "execution_count": null,
   "metadata": {},
   "outputs": [
    {
     "name": "stdout",
     "output_type": "stream",
     "text": [
      "\n",
      "Classification Report:\n",
      "              precision    recall  f1-score   support\n",
      "\n",
      "      NORMAL       0.88      0.76      0.82       234\n",
      "   PNEUMONIA       0.87      0.94      0.90       390\n",
      "\n",
      "    accuracy                           0.87       624\n",
      "   macro avg       0.87      0.85      0.86       624\n",
      "weighted avg       0.87      0.87      0.87       624\n",
      "\n"
     ]
    }
   ],
   "source": [
    "# Classification Report\n",
    "cr = classification_report(true_classes, predicted_classes, target_names=class_labels)\n",
    "print(\"\\nClassification Report:\")\n",
    "print(cr)"
   ]
  },
  {
   "cell_type": "code",
   "execution_count": null,
   "metadata": {},
   "outputs": [
    {
     "data": {
      "image/png": "[encoded data removed]",
      "text/plain": [
       "<Figure size 800x600 with 2 Axes>"
      ]
     },
     "metadata": {},
     "output_type": "display_data"
    }
   ],
   "source": [
    "# Plotting the Confusion Matrix\n",
    "plt.figure(figsize=(8, 6))\n",
    "sns.heatmap(cm, annot=True, fmt=\"d\", cmap=\"Blues\", xticklabels=class_labels, yticklabels=class_labels)\n",
    "plt.title(\"Confusion Matrix\")\n",
    "plt.xlabel(\"Predicted Label\")\n",
    "plt.ylabel(\"True Label\")\n",
    "plt.show()"
   ]
  },
  {
   "cell_type": "code",
   "execution_count": null,
   "metadata": {},
   "outputs": [
    {
     "data": {
      "image/png": "[encoded data removed]",
      "text/plain": [
       "<Figure size 800x600 with 1 Axes>"
      ]
     },
     "metadata": {},
     "output_type": "display_data"
    }
   ],
   "source": [
    "# Calculate ROC curve and AUC\n",
    "fpr, tpr, thresholds = roc_curve(true_classes, predictions)\n",
    "roc_auc = auc(fpr, tpr)\n",
    "\n",
    "# Plot ROC curve\n",
    "plt.figure(figsize=(8, 6))\n",
    "plt.plot(fpr, tpr, color='darkorange', lw=2, label=f'ROC AUC = {roc_auc:.2f}')\n",
    "plt.plot([0, 1], [0, 1], color='navy', lw=2, linestyle='--')\n",
    "plt.xlabel('False Positive Rate')\n",
    "plt.ylabel('True Positive Rate')\n",
    "plt.title('Receiver Operating Characteristic (ROC)')\n",
    "plt.legend(loc='lower right')\n",
    "plt.show()"
   ]
  }
 ],
 "metadata": {
  "kernelspec": {
   "display_name": ".pneum",
   "language": "python",
   "name": "python3"
  },
  "language_info": {
   "codemirror_mode": {
    "name": "ipython",
    "version": 3
   },
   "file_extension": ".py",
   "mimetype": "text/x-python",
   "name": "python",
   "nbconvert_exporter": "python",
   "pygments_lexer": "ipython3",
   "version": "3.10.11"
  }
 },
 "nbformat": 4,
 "nbformat_minor": 2
}
